{
 "cells": [
  {
   "cell_type": "code",
   "execution_count": 2,
   "metadata": {},
   "outputs": [],
   "source": [
    "import numpy as np\n",
    "import matplotlib.pyplot as plt  # To visualize\n",
    "import pandas as pd  # To read data\n",
    "from sklearn.linear_model import LinearRegression\n",
    "import statsmodels.api as sm\n",
    "from stargazer.stargazer import Stargazer\n",
    "from IPython.core.display import HTML\n",
    "import seaborn as sn"
   ]
  },
  {
   "cell_type": "markdown",
   "metadata": {},
   "source": [
    "# NHGIS Data\n",
    "First, we are loading in the required libraries and data. I am using python for this because I had trouble getting stata to work well. "
   ]
  },
  {
   "cell_type": "code",
   "execution_count": 3,
   "metadata": {},
   "outputs": [],
   "source": [
    "data1 = pd.read_csv('nhgis/3.csv', encoding = \"ISO-8859-1\")\n",
    "data2 = pd.read_csv('nhgis/4.csv', encoding = \"ISO-8859-1\")"
   ]
  },
  {
   "cell_type": "markdown",
   "metadata": {},
   "source": [
    "This next section is simply me merging the two datasets together. Then, I created a statistic that represents the fraction of the population with a B.A. or higher. Finally, I isolated the columns we needed for this assignment in the DataFrame.\n"
   ]
  },
  {
   "cell_type": "code",
   "execution_count": 4,
   "metadata": {},
   "outputs": [],
   "source": [
    "data = pd.merge(data1, data2, on='GISJOIN')"
   ]
  },
  {
   "cell_type": "code",
   "execution_count": 5,
   "metadata": {},
   "outputs": [],
   "source": [
    "data['PctBA'] = ((data['ALWGE022'] + data['ALWGE023'] + data['ALWGE024'] + data['ALWGE025'])/data['ALWGE001'])"
   ]
  },
  {
   "cell_type": "code",
   "execution_count": 6,
   "metadata": {},
   "outputs": [],
   "source": [
    "data = data[['GISJOIN', 'CBSA_x', 'CBSAA_x', 'ALWGE001', 'ALX5E001', 'AMEME001', 'PctBA']]"
   ]
  },
  {
   "cell_type": "code",
   "execution_count": 7,
   "metadata": {},
   "outputs": [],
   "source": [
    "data.columns = ['GISJOIN', 'CBSA_Name', 'CBSA_Code', 'Population', 'Income_Per_Capita', 'Gini', 'Percent_with_BA']"
   ]
  },
  {
   "cell_type": "markdown",
   "metadata": {},
   "source": [
    "## Question G: \n",
    "We decided to not restrict the size, since the data tables we downloaded were already based around CBSA's, and the lowest CBSA in the dataset was already over 6000 people large, which seemed large enough to be accurate.  "
   ]
  },
  {
   "cell_type": "markdown",
   "metadata": {},
   "source": [
    "## Quesiton H\n",
    "Just from sorting the values, the least educated CBSA's all seem to a lot lower in population than the higher educated CBSAs. In addition, they appear to have a lower average per capita income. The Gini seems somewhat lower in the lesser educated CBSAs, however. "
   ]
  },
  {
   "cell_type": "code",
   "execution_count": 8,
   "metadata": {},
   "outputs": [
    {
     "data": {
      "text/html": [
       "<div>\n",
       "<style scoped>\n",
       "    .dataframe tbody tr th:only-of-type {\n",
       "        vertical-align: middle;\n",
       "    }\n",
       "\n",
       "    .dataframe tbody tr th {\n",
       "        vertical-align: top;\n",
       "    }\n",
       "\n",
       "    .dataframe thead th {\n",
       "        text-align: right;\n",
       "    }\n",
       "</style>\n",
       "<table border=\"1\" class=\"dataframe\">\n",
       "  <thead>\n",
       "    <tr style=\"text-align: right;\">\n",
       "      <th></th>\n",
       "      <th>GISJOIN</th>\n",
       "      <th>CBSA_Name</th>\n",
       "      <th>CBSA_Code</th>\n",
       "      <th>Population</th>\n",
       "      <th>Income_Per_Capita</th>\n",
       "      <th>Gini</th>\n",
       "      <th>Percent_with_BA</th>\n",
       "    </tr>\n",
       "  </thead>\n",
       "  <tbody>\n",
       "    <tr>\n",
       "      <th>658</th>\n",
       "      <td>G37770</td>\n",
       "      <td>Pearsall, TX Micro Area; San Antonio-New Braun...</td>\n",
       "      <td>37770</td>\n",
       "      <td>12449</td>\n",
       "      <td>19256</td>\n",
       "      <td>0.5087</td>\n",
       "      <td>0.072857</td>\n",
       "    </tr>\n",
       "    <tr>\n",
       "      <th>173</th>\n",
       "      <td>G17500</td>\n",
       "      <td>Clewiston, FL Micro Area; Cape Coral-Fort Myer...</td>\n",
       "      <td>17500</td>\n",
       "      <td>25671</td>\n",
       "      <td>19167</td>\n",
       "      <td>0.4681</td>\n",
       "      <td>0.082973</td>\n",
       "    </tr>\n",
       "    <tr>\n",
       "      <th>704</th>\n",
       "      <td>G39700</td>\n",
       "      <td>Raymondville, TX Micro Area; Brownsville-Harli...</td>\n",
       "      <td>39700</td>\n",
       "      <td>13296</td>\n",
       "      <td>14888</td>\n",
       "      <td>0.4650</td>\n",
       "      <td>0.088598</td>\n",
       "    </tr>\n",
       "    <tr>\n",
       "      <th>82</th>\n",
       "      <td>G13500</td>\n",
       "      <td>Bennettsville, SC Micro Area</td>\n",
       "      <td>13500</td>\n",
       "      <td>19108</td>\n",
       "      <td>17456</td>\n",
       "      <td>0.4782</td>\n",
       "      <td>0.088916</td>\n",
       "    </tr>\n",
       "    <tr>\n",
       "      <th>828</th>\n",
       "      <td>G44900</td>\n",
       "      <td>Summerville, GA Micro Area; Chattanooga-Clevel...</td>\n",
       "      <td>44900</td>\n",
       "      <td>17107</td>\n",
       "      <td>18715</td>\n",
       "      <td>0.4476</td>\n",
       "      <td>0.089320</td>\n",
       "    </tr>\n",
       "    <tr>\n",
       "      <th>...</th>\n",
       "      <td>...</td>\n",
       "      <td>...</td>\n",
       "      <td>...</td>\n",
       "      <td>...</td>\n",
       "      <td>...</td>\n",
       "      <td>...</td>\n",
       "      <td>...</td>\n",
       "    </tr>\n",
       "    <tr>\n",
       "      <th>403</th>\n",
       "      <td>G27060</td>\n",
       "      <td>Ithaca, NY Metro Area</td>\n",
       "      <td>27060</td>\n",
       "      <td>59774</td>\n",
       "      <td>33075</td>\n",
       "      <td>0.4960</td>\n",
       "      <td>0.535183</td>\n",
       "    </tr>\n",
       "    <tr>\n",
       "      <th>201</th>\n",
       "      <td>G18700</td>\n",
       "      <td>Corvallis, OR Metro Area</td>\n",
       "      <td>18700</td>\n",
       "      <td>55359</td>\n",
       "      <td>33817</td>\n",
       "      <td>0.4801</td>\n",
       "      <td>0.541484</td>\n",
       "    </tr>\n",
       "    <tr>\n",
       "      <th>31</th>\n",
       "      <td>G11460</td>\n",
       "      <td>Ann Arbor, MI Metro Area</td>\n",
       "      <td>11460</td>\n",
       "      <td>229268</td>\n",
       "      <td>41399</td>\n",
       "      <td>0.4848</td>\n",
       "      <td>0.559271</td>\n",
       "    </tr>\n",
       "    <tr>\n",
       "      <th>105</th>\n",
       "      <td>G14500</td>\n",
       "      <td>Boulder, CO Metro Area</td>\n",
       "      <td>14500</td>\n",
       "      <td>212755</td>\n",
       "      <td>46826</td>\n",
       "      <td>0.4848</td>\n",
       "      <td>0.620766</td>\n",
       "    </tr>\n",
       "    <tr>\n",
       "      <th>497</th>\n",
       "      <td>G31060</td>\n",
       "      <td>Los Alamos, NM Micro Area; Albuquerque-Santa F...</td>\n",
       "      <td>31060</td>\n",
       "      <td>13260</td>\n",
       "      <td>60746</td>\n",
       "      <td>0.3909</td>\n",
       "      <td>0.674057</td>\n",
       "    </tr>\n",
       "  </tbody>\n",
       "</table>\n",
       "<p>938 rows × 7 columns</p>\n",
       "</div>"
      ],
      "text/plain": [
       "    GISJOIN                                          CBSA_Name  CBSA_Code  \\\n",
       "658  G37770  Pearsall, TX Micro Area; San Antonio-New Braun...      37770   \n",
       "173  G17500  Clewiston, FL Micro Area; Cape Coral-Fort Myer...      17500   \n",
       "704  G39700  Raymondville, TX Micro Area; Brownsville-Harli...      39700   \n",
       "82   G13500                       Bennettsville, SC Micro Area      13500   \n",
       "828  G44900  Summerville, GA Micro Area; Chattanooga-Clevel...      44900   \n",
       "..      ...                                                ...        ...   \n",
       "403  G27060                              Ithaca, NY Metro Area      27060   \n",
       "201  G18700                           Corvallis, OR Metro Area      18700   \n",
       "31   G11460                           Ann Arbor, MI Metro Area      11460   \n",
       "105  G14500                             Boulder, CO Metro Area      14500   \n",
       "497  G31060  Los Alamos, NM Micro Area; Albuquerque-Santa F...      31060   \n",
       "\n",
       "     Population  Income_Per_Capita    Gini  Percent_with_BA  \n",
       "658       12449              19256  0.5087         0.072857  \n",
       "173       25671              19167  0.4681         0.082973  \n",
       "704       13296              14888  0.4650         0.088598  \n",
       "82        19108              17456  0.4782         0.088916  \n",
       "828       17107              18715  0.4476         0.089320  \n",
       "..          ...                ...     ...              ...  \n",
       "403       59774              33075  0.4960         0.535183  \n",
       "201       55359              33817  0.4801         0.541484  \n",
       "31       229268              41399  0.4848         0.559271  \n",
       "105      212755              46826  0.4848         0.620766  \n",
       "497       13260              60746  0.3909         0.674057  \n",
       "\n",
       "[938 rows x 7 columns]"
      ]
     },
     "execution_count": 8,
     "metadata": {},
     "output_type": "execute_result"
    }
   ],
   "source": [
    "data.sort_values('Percent_with_BA')\n"
   ]
  },
  {
   "cell_type": "markdown",
   "metadata": {},
   "source": [
    "## Regression 1\n",
    "This Regression is an Simple Linear Regression of Income Per Capita on Total Population (city size)"
   ]
  },
  {
   "cell_type": "code",
   "execution_count": 9,
   "metadata": {},
   "outputs": [],
   "source": [
    "Income_Pop = sm.OLS(data['Income_Per_Capita'], sm.add_constant(data['Population'])).fit()\n"
   ]
  },
  {
   "cell_type": "code",
   "execution_count": 10,
   "metadata": {},
   "outputs": [
    {
     "name": "stdout",
     "output_type": "stream",
     "text": [
      "                            OLS Regression Results                            \n",
      "==============================================================================\n",
      "Dep. Variable:      Income_Per_Capita   R-squared:                       0.097\n",
      "Model:                            OLS   Adj. R-squared:                  0.096\n",
      "Method:                 Least Squares   F-statistic:                     100.3\n",
      "Date:                Mon, 11 Oct 2021   Prob (F-statistic):           1.70e-22\n",
      "Time:                        14:06:38   Log-Likelihood:                -9467.9\n",
      "No. Observations:                 938   AIC:                         1.894e+04\n",
      "Df Residuals:                     936   BIC:                         1.895e+04\n",
      "Df Model:                           1                                         \n",
      "Covariance Type:            nonrobust                                         \n",
      "==============================================================================\n",
      "                 coef    std err          t      P>|t|      [0.025      0.975]\n",
      "------------------------------------------------------------------------------\n",
      "const       2.752e+04    199.705    137.821      0.000    2.71e+04    2.79e+04\n",
      "Population     0.0026      0.000     10.014      0.000       0.002       0.003\n",
      "==============================================================================\n",
      "Omnibus:                      118.872   Durbin-Watson:                   1.983\n",
      "Prob(Omnibus):                  0.000   Jarque-Bera (JB):              408.315\n",
      "Skew:                           0.587   Prob(JB):                     2.17e-89\n",
      "Kurtosis:                       6.012   Cond. No.                     8.16e+05\n",
      "==============================================================================\n",
      "\n",
      "Notes:\n",
      "[1] Standard Errors assume that the covariance matrix of the errors is correctly specified.\n",
      "[2] The condition number is large, 8.16e+05. This might indicate that there are\n",
      "strong multicollinearity or other numerical problems.\n"
     ]
    }
   ],
   "source": [
    "print(Income_Pop.summary())\n"
   ]
  },
  {
   "cell_type": "markdown",
   "metadata": {},
   "source": [
    "We observe a statistically significant positive relationship between Income Per Capita and the Size of a city\n",
    "\n",
    "Next we run a regression of Gini on Population: \n"
   ]
  },
  {
   "cell_type": "code",
   "execution_count": 11,
   "metadata": {},
   "outputs": [],
   "source": [
    "Pop_Gini = sm.OLS(data['Gini'], sm.add_constant(data['Population'])).fit()\n",
    "\n"
   ]
  },
  {
   "cell_type": "code",
   "execution_count": 12,
   "metadata": {},
   "outputs": [
    {
     "name": "stdout",
     "output_type": "stream",
     "text": [
      "                            OLS Regression Results                            \n",
      "==============================================================================\n",
      "Dep. Variable:                   Gini   R-squared:                       0.023\n",
      "Model:                            OLS   Adj. R-squared:                  0.022\n",
      "Method:                 Least Squares   F-statistic:                     21.79\n",
      "Date:                Mon, 11 Oct 2021   Prob (F-statistic):           3.49e-06\n",
      "Time:                        14:06:39   Log-Likelihood:                 1956.8\n",
      "No. Observations:                 938   AIC:                            -3910.\n",
      "Df Residuals:                     936   BIC:                            -3900.\n",
      "Df Model:                           1                                         \n",
      "Covariance Type:            nonrobust                                         \n",
      "==============================================================================\n",
      "                 coef    std err          t      P>|t|      [0.025      0.975]\n",
      "------------------------------------------------------------------------------\n",
      "const          0.4521      0.001    441.058      0.000       0.450       0.454\n",
      "Population  6.123e-09   1.31e-09      4.667      0.000    3.55e-09     8.7e-09\n",
      "==============================================================================\n",
      "Omnibus:                       53.772   Durbin-Watson:                   1.909\n",
      "Prob(Omnibus):                  0.000   Jarque-Bera (JB):               71.513\n",
      "Skew:                           0.510   Prob(JB):                     2.96e-16\n",
      "Kurtosis:                       3.888   Cond. No.                     8.16e+05\n",
      "==============================================================================\n",
      "\n",
      "Notes:\n",
      "[1] Standard Errors assume that the covariance matrix of the errors is correctly specified.\n",
      "[2] The condition number is large, 8.16e+05. This might indicate that there are\n",
      "strong multicollinearity or other numerical problems.\n"
     ]
    }
   ],
   "source": [
    "print(Pop_Gini.summary())\n"
   ]
  },
  {
   "cell_type": "markdown",
   "metadata": {},
   "source": [
    "We get a somewhat confusing result. The coefficient is extremely small, but also has a significant p value. I think this is simply because the relationship is there, but gini coefficients are a much smaller number than the population, so the coefficients are very very small. If you reverse it and have population as the dependent variable, you get the following: "
   ]
  },
  {
   "cell_type": "code",
   "execution_count": 13,
   "metadata": {},
   "outputs": [
    {
     "name": "stdout",
     "output_type": "stream",
     "text": [
      "                            OLS Regression Results                            \n",
      "==============================================================================\n",
      "Dep. Variable:             Population   R-squared:                       0.023\n",
      "Model:                            OLS   Adj. R-squared:                  0.022\n",
      "Method:                 Least Squares   F-statistic:                     21.79\n",
      "Date:                Mon, 11 Oct 2021   Prob (F-statistic):           3.49e-06\n",
      "Time:                        14:06:40   Log-Likelihood:                -14008.\n",
      "No. Observations:                 938   AIC:                         2.802e+04\n",
      "Df Residuals:                     936   BIC:                         2.803e+04\n",
      "Df Model:                           1                                         \n",
      "Covariance Type:            nonrobust                                         \n",
      "==============================================================================\n",
      "                 coef    std err          t      P>|t|      [0.025      0.975]\n",
      "------------------------------------------------------------------------------\n",
      "const      -1.461e+06   3.62e+05     -4.038      0.000   -2.17e+06   -7.51e+05\n",
      "Gini        3.715e+06   7.96e+05      4.667      0.000    2.15e+06    5.28e+06\n",
      "==============================================================================\n",
      "Omnibus:                     1493.733   Durbin-Watson:                   1.978\n",
      "Prob(Omnibus):                  0.000   Jarque-Bera (JB):           684543.407\n",
      "Skew:                           9.648   Prob(JB):                         0.00\n",
      "Kurtosis:                     133.930   Cond. No.                         39.7\n",
      "==============================================================================\n",
      "\n",
      "Notes:\n",
      "[1] Standard Errors assume that the covariance matrix of the errors is correctly specified.\n"
     ]
    }
   ],
   "source": [
    "Pop_Gini_Reversed = sm.OLS(data['Population'], sm.add_constant(data['Gini'])).fit()\n",
    "print(Pop_Gini_Reversed.summary())\n"
   ]
  },
  {
   "cell_type": "markdown",
   "metadata": {},
   "source": [
    "Finally we get to the regression of Gini on Income per Capita. There is a significant but negative relationship between the two variables. "
   ]
  },
  {
   "cell_type": "code",
   "execution_count": 14,
   "metadata": {},
   "outputs": [
    {
     "name": "stdout",
     "output_type": "stream",
     "text": [
      "                            OLS Regression Results                            \n",
      "==============================================================================\n",
      "Dep. Variable:                   Gini   R-squared:                       0.022\n",
      "Model:                            OLS   Adj. R-squared:                  0.021\n",
      "Method:                 Least Squares   F-statistic:                     20.65\n",
      "Date:                Mon, 11 Oct 2021   Prob (F-statistic):           6.25e-06\n",
      "Time:                        14:06:40   Log-Likelihood:                 1956.3\n",
      "No. Observations:                 938   AIC:                            -3909.\n",
      "Df Residuals:                     936   BIC:                            -3899.\n",
      "Df Model:                           1                                         \n",
      "Covariance Type:            nonrobust                                         \n",
      "=====================================================================================\n",
      "                        coef    std err          t      P>|t|      [0.025      0.975]\n",
      "-------------------------------------------------------------------------------------\n",
      "const                 0.4738      0.005    103.256      0.000       0.465       0.483\n",
      "Income_Per_Capita -7.249e-07    1.6e-07     -4.544      0.000   -1.04e-06   -4.12e-07\n",
      "==============================================================================\n",
      "Omnibus:                       29.614   Durbin-Watson:                   1.892\n",
      "Prob(Omnibus):                  0.000   Jarque-Bera (JB):               34.674\n",
      "Skew:                           0.373   Prob(JB):                     2.96e-08\n",
      "Kurtosis:                       3.575   Cond. No.                     1.34e+05\n",
      "==============================================================================\n",
      "\n",
      "Notes:\n",
      "[1] Standard Errors assume that the covariance matrix of the errors is correctly specified.\n",
      "[2] The condition number is large, 1.34e+05. This might indicate that there are\n",
      "strong multicollinearity or other numerical problems.\n"
     ]
    }
   ],
   "source": [
    "Income_Gini = sm.OLS(data['Gini'], sm.add_constant(data['Income_Per_Capita'])).fit()\n",
    "\n",
    "print(Income_Gini.summary())\n",
    "\n"
   ]
  },
  {
   "cell_type": "code",
   "execution_count": 15,
   "metadata": {},
   "outputs": [
    {
     "data": {
      "text/html": [
       "<table style=\"text-align:center\"><tr><td colspan=\"4\" style=\"border-bottom: 1px solid black\"></td></tr><tr><td style=\"text-align:left\"></td><tr><td></td><td colspan=\"1\">Income on Population</td><td colspan=\"1\">Gini on Population</td><td colspan=\"1\">Gini on Income</td></tr><tr><td style=\"text-align:left\"></td><td>(1)</td><td>(2)</td><td>(3)</td></tr><tr><td colspan=\"4\" style=\"border-bottom: 1px solid black\"></td></tr><tr><td style=\"text-align:left\">Income_Per_Capita</td><td></td><td></td><td>-0.0000<sup>***</sup></td></tr><tr><td style=\"text-align:left\"></td><td></td><td></td><td>(0.0000)</td></tr><tr><td style=\"text-align:left\">Population</td><td>0.0026<sup>***</sup></td><td>0.0000<sup>***</sup></td><td></td></tr><tr><td style=\"text-align:left\"></td><td>(0.0003)</td><td>(0.0000)</td><td></td></tr><tr><td style=\"text-align:left\">const</td><td>27523.4610<sup>***</sup></td><td>0.4521<sup>***</sup></td><td>0.4738<sup>***</sup></td></tr><tr><td style=\"text-align:left\"></td><td>(199.7046)</td><td>(0.0010)</td><td>(0.0046)</td></tr><td colspan=\"4\" style=\"border-bottom: 1px solid black\"></td></tr><tr><td style=\"text-align: left\">Observations</td><td>938</td><td>938</td><td>938</td></tr><tr><td style=\"text-align: left\">R<sup>2</sup></td><td>0.0968</td><td>0.0227</td><td>0.0216</td></tr><tr><td style=\"text-align: left\">Adjusted R<sup>2</sup></td><td>0.0958</td><td>0.0217</td><td>0.0205</td></tr><tr><td style=\"text-align: left\">Residual Std. Error</td><td>5859.5028 (df=936)</td><td>0.0301 (df=936)</td><td>0.0301 (df=936)</td></tr><tr><td style=\"text-align: left\">F Statistic</td><td>100.2890<sup>***</sup> (df=1; 936)</td><td>21.7852<sup>***</sup> (df=1; 936)</td><td>20.6460<sup>***</sup> (df=1; 936)</td></tr><tr><td colspan=\"4\" style=\"border-bottom: 1px solid black\"></td></tr><tr><td style=\"text-align: left\">Note:</td>\n",
       " <td colspan=\"3\" style=\"text-align: right\">\n",
       "  <sup>*</sup>p&lt;0.1;\n",
       "  <sup>**</sup>p&lt;0.05;\n",
       "  <sup>***</sup>p&lt;0.01\n",
       " </td></tr></table>"
      ],
      "text/plain": [
       "<IPython.core.display.HTML object>"
      ]
     },
     "execution_count": 15,
     "metadata": {},
     "output_type": "execute_result"
    }
   ],
   "source": [
    "stargazer = Stargazer([Income_Pop, Pop_Gini, Income_Gini])\n",
    "stargazer.significant_digits(4)\n",
    "\n",
    "stargazer.custom_columns(['Income on Population', 'Gini on Population', 'Gini on Income'], [1, 1, 1])\n",
    "HTML(stargazer.render_html())\n"
   ]
  },
  {
   "cell_type": "markdown",
   "metadata": {},
   "source": [
    "Above is the table comparing all of the outputted regression results. "
   ]
  },
  {
   "cell_type": "markdown",
   "metadata": {},
   "source": []
  }
 ],
 "metadata": {
  "interpreter": {
   "hash": "5dca6af0e29f92f99b0fc6520f6748756127f14e6dd8a08009d15e38062714fa"
  },
  "kernelspec": {
   "display_name": "Python 3.9.6 64-bit ('data310': conda)",
   "name": "python3"
  },
  "language_info": {
   "codemirror_mode": {
    "name": "ipython",
    "version": 3
   },
   "file_extension": ".py",
   "mimetype": "text/x-python",
   "name": "python",
   "nbconvert_exporter": "python",
   "pygments_lexer": "ipython3",
   "version": "3.9.6"
  },
  "orig_nbformat": 4
 },
 "nbformat": 4,
 "nbformat_minor": 2
}
